{
  "nbformat": 4,
  "nbformat_minor": 0,
  "metadata": {
    "colab": {
      "provenance": [],
      "gpuType": "T4"
    },
    "kernelspec": {
      "name": "python3",
      "display_name": "Python 3"
    },
    "language_info": {
      "name": "python"
    },
    "accelerator": "GPU"
  },
  "cells": [
    {
      "cell_type": "code",
      "source": [
        "# Imports and Data\n",
        "import matplotlib.pyplot as plt # plotting\n",
        "import numpy as np # linear algebra\n",
        "import os # accessing directory structure\n",
        "import pandas as pd # data processing, CSV file I/O (e.g. pd.read_csv)\n",
        "import cv2\n",
        "import math\n",
        "# for converting data to tensors before feeding into network\n",
        "import torch\n",
        "from torch.utils.data import TensorDataset, DataLoader\n",
        "from torchvision import transforms\n",
        "import torch.nn as nn\n",
        "import torch.nn.functional as F\n",
        "from torch.autograd import Variable\n",
        "\n",
        "from google.colab.patches import cv2_imshow\n",
        "from google.colab import drive\n",
        "\n",
        "from tqdm import tqdm"
      ],
      "metadata": {
        "id": "LFYzMJFIqeAJ"
      },
      "execution_count": null,
      "outputs": []
    },
    {
      "cell_type": "code",
      "source": [
        "drive.mount('/content/drive')"
      ],
      "metadata": {
        "colab": {
          "base_uri": "https://localhost:8080/"
        },
        "id": "PRdpXZD5sDiR",
        "outputId": "5e8206fb-b072-450e-d504-77ce2a940a5c"
      },
      "execution_count": null,
      "outputs": [
        {
          "output_type": "stream",
          "name": "stdout",
          "text": [
            "Mounted at /content/drive\n"
          ]
        }
      ]
    },
    {
      "cell_type": "code",
      "execution_count": null,
      "metadata": {
        "id": "zCShRDFvx0f9"
      },
      "outputs": [],
      "source": [
        "# YOU CAN MANUALLY ADD THESE IMAGES TO THE RUN TIME AFTER DOWNLOADING THEM FROM GITHUB\n",
        "image1 = \"validation_img1.jpeg\" # real signature\n",
        "image2 = \"validation_img2.jpeg\" # forged signature"
      ]
    },
    {
      "cell_type": "code",
      "source": [
        "def display_image(image):\n",
        "    cv2_imshow(image)\n",
        "\n",
        "def load_image(image_path):\n",
        "    src = cv2.imread(image_path)\n",
        "    #print(src)\n",
        "    return src"
      ],
      "metadata": {
        "id": "wyyBVfT3qj4b"
      },
      "execution_count": null,
      "outputs": []
    },
    {
      "cell_type": "code",
      "source": [
        "img1 = load_image(image1)\n",
        "img2 = load_image(image2)\n",
        "\n",
        "display_image(load_image(image1))\n",
        "display_image(load_image(image2))\n"
      ],
      "metadata": {
        "colab": {
          "base_uri": "https://localhost:8080/",
          "height": 167
        },
        "id": "8WE4vwREqmuU",
        "outputId": "bc9c41cb-bd92-4f09-f163-630a7d743d0b"
      },
      "execution_count": null,
      "outputs": [
        {
          "output_type": "display_data",
          "data": {
            "text/plain": [
              "<PIL.Image.Image image mode=RGB size=200x75>"
            ],
            "image/png": "[encoded data removed]"
          },
          "metadata": {}
        },
        {
          "output_type": "display_data",
          "data": {
            "text/plain": [
              "<PIL.Image.Image image mode=RGB size=200x75>"
            ],
            "image/png": "[encoded data removed]"
          },
          "metadata": {}
        }
      ]
    },
    {
      "cell_type": "markdown",
      "source": [
        "# Network Module"
      ],
      "metadata": {
        "id": "Wa1gcrEdnC4Y"
      }
    },
    {
      "cell_type": "code",
      "source": [
        "class SiameseNetwork(nn.Module):\n",
        "    '''\n",
        "    Siamese Network module\n",
        "    '''\n",
        "    # self.contrastive_loss = 0.5*(1-Y)*(Dw**2) + 0.5*Y*(max(0,m-Dw))**2\n",
        "    # self.Dw = lambda x1,x2: math.sqrt(math.pow(Gw(x1)-Gw(x2),2))\n",
        "    kernel_size = 10\n",
        "\n",
        "    def __init__(self):\n",
        "        super(SiameseNetwork, self).__init__()\n",
        "        self.cnn1 = nn.Sequential(\n",
        "            nn.Conv2d(3, 64, kernel_size=7),\n",
        "            nn.ReLU(inplace=True),\n",
        "            nn.BatchNorm2d(64),\n",
        "            nn.MaxPool2d(2),\n",
        "\n",
        "            nn.Conv2d(64, 128, kernel_size=7),\n",
        "            nn.ReLU(inplace=True),\n",
        "            nn.BatchNorm2d(128),\n",
        "            nn.MaxPool2d(2),\n",
        "\n",
        "            nn.Conv2d(128, 128, kernel_size=4),\n",
        "            nn.ReLU(inplace=True),\n",
        "            nn.BatchNorm2d(128),\n",
        "            nn.MaxPool2d(2),\n",
        "\n",
        "            nn.Conv2d(128, 256, kernel_size=4),\n",
        "            nn.ReLU(inplace=True),\n",
        "            nn.BatchNorm2d(256),\n",
        "        )\n",
        "        self.fc1 = nn.Sequential(\n",
        "            nn.Linear(256*2*18, 4096),\n",
        "            nn.ReLU(),\n",
        "            nn.Dropout(0.5),  # Add dropout for regularization\n",
        "            nn.Linear(4096, 1)\n",
        "        )\n",
        "\n",
        "    def forward_once(self, x):\n",
        "        output = self.cnn1(x)\n",
        "        # output = output.view(output.size()[0], -1)\n",
        "        output = output.view(output.size(0), -1)\n",
        "        output = self.fc1(output)\n",
        "        return output\n",
        "\n",
        "    def forward(self, input1, input2):\n",
        "        output1 = self.forward_once(input1)\n",
        "        output2 = self.forward_once(input2)\n",
        "        return output1, output2\n",
        "\n",
        "    def evaluate(self, dataloader, labels):\n",
        "        # Switch the network to evaluation mode\n",
        "        self.eval()\n",
        "\n",
        "        correct_pairs = 0\n",
        "        total_pairs = 0\n",
        "\n",
        "        # Iterate over the data loader\n",
        "        for i, data in enumerate(dataloader.dataset[0]):\n",
        "            img0, img1 = data\n",
        "\n",
        "            label = labels[i]\n",
        "            img0, img1 = img0.cuda(), img1.cuda()\n",
        "\n",
        "            # do a prediction\n",
        "            output1,output2 = network.forward(img0.unsqueeze(0),img1.unsqueeze(0))\n",
        "            # Calculate the Euclidean distance between the outputs\n",
        "            distance = F.pairwise_distance(output1, output2)\n",
        "\n",
        "            # Check if the distance is less than a threshold for similar pairs\n",
        "            # or greater than a threshold for dissimilar pairs\n",
        "            # Adjust the threshold as needed\n",
        "            threshold = 5\n",
        "\n",
        "            prediction = torch.max(distance).item() < threshold\n",
        "            print(f\"Distance between images: {torch.max(distance).item()} (compared to a threshold of {threshold})\")\n",
        "            # print(torch.max(distance).item(), label)\n",
        "            if label == int(prediction):\n",
        "                correct_pairs+=1\n",
        "            total_pairs += 1\n",
        "\n",
        "        accuracy = 1.0*correct_pairs / total_pairs\n",
        "        # print(f\"Accuracy is: {accuracy}\")\n",
        "        return accuracy\n",
        "\n",
        "class ContrastiveLoss(torch.nn.Module):\n",
        "    \"\"\"\n",
        "    Contrastive loss function.\n",
        "    \"\"\"\n",
        "\n",
        "    def __init__(self, margin=1.0):\n",
        "        super(ContrastiveLoss, self).__init__()\n",
        "        self.margin = margin\n",
        "\n",
        "    def forward(self, output1, output2, label):\n",
        "        euclidean_distance = F.pairwise_distance(output1, output2)\n",
        "        loss_contrastive = torch.mean((1-label.item()) * torch.pow(euclidean_distance, 2) +\n",
        "                                      (label.item()) * torch.pow(torch.clamp(self.margin - euclidean_distance, min=0.0), 2))\n",
        "\n",
        "        return loss_contrastive\n"
      ],
      "metadata": {
        "id": "mz66dOuQnBuR"
      },
      "execution_count": null,
      "outputs": []
    },
    {
      "cell_type": "markdown",
      "source": [
        "# Load the trained Model"
      ],
      "metadata": {
        "id": "qBwdPi6fnPX-"
      }
    },
    {
      "cell_type": "code",
      "source": [
        "def pair(img1, img2):\n",
        "    '''\n",
        "    Pairs a genuine signature with a forged signature for the siamese network\n",
        "    '''\n",
        "    paired_imgs = torch.stack([img1, img2])\n",
        "    return paired_imgs\n"
      ],
      "metadata": {
        "id": "jR3HwptxnNrH"
      },
      "execution_count": null,
      "outputs": []
    },
    {
      "cell_type": "markdown",
      "source": [
        "# Enter Path to best_model.pth from input\n",
        "\n",
        "## We tried to see if it allows you to enter path manually on the side like you can for images and csvs, but it appears to not work\n",
        "\n",
        "## So just add the path of weights to Drive and then type in the path. Apologies for any inconvience"
      ],
      "metadata": {
        "id": "moDm16dItk_V"
      }
    },
    {
      "cell_type": "code",
      "source": [
        "network = SiameseNetwork().cuda()\n",
        "load = True\n",
        "\n",
        "# This was the only\n",
        "starting_weights = input(\"Enter the Path for Trained Weights: \")\n",
        "if load:\n",
        "  print(f\"Loading the weights from {starting_weights} ...\")\n",
        "  network.load_state_dict(torch.load(starting_weights))\n",
        "  print(\"Successfully loaded the model checkpoint!\")\n",
        "\n",
        "# loading in the validation sample\n",
        "transform = transforms.Compose([\n",
        "    transforms.ToTensor(),\n",
        "    transforms.Normalize([0.5], [0.5])  # normalization of pixel values\n",
        "])\n",
        "\n",
        "img1 = transform(img1)\n",
        "img2 = transform(img2)\n",
        "\n",
        "data = [pair(img1, img2)]\n",
        "data_tensor = torch.stack(data)\n",
        "dataset = TensorDataset(data_tensor)\n",
        "val_loader = DataLoader(dataset, batch_size=32, shuffle=True)\n",
        "val_labels = [1, 0]\n",
        "acc = network.evaluate(val_loader, val_labels)\n",
        "\n",
        "# Runs one sample! It was incorrect!\n",
        "print(f'\\nValidation Accuracy Achieved: {acc}')"
      ],
      "metadata": {
        "colab": {
          "base_uri": "https://localhost:8080/"
        },
        "id": "f5TMssZoo56c",
        "outputId": "95435cdb-ad2f-4341-bfe4-d3178612d78c"
      },
      "execution_count": null,
      "outputs": [
        {
          "output_type": "stream",
          "name": "stdout",
          "text": [
            "Enter the Path for Trained Weights/content/drive/MyDrive/Handwriting Recognition/best_model.pth\n",
            "Loading the weights from /content/drive/MyDrive/Handwriting Recognition/best_model.pth ...\n",
            "Successfully loaded the model checkpoint!\n",
            "\n",
            "Validation Accuracy Achieved: 0.0\n"
          ]
        }
      ]
    }
  ]
}