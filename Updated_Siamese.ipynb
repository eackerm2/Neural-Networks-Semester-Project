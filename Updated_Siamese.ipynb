{
  "nbformat": 4,
  "nbformat_minor": 0,
  "metadata": {
    "colab": {
      "provenance": [],
      "gpuType": "T4"
    },
    "kernelspec": {
      "name": "python3",
      "display_name": "Python 3"
    },
    "language_info": {
      "name": "python"
    },
    "accelerator": "GPU"
  },
  "cells": [
    {
      "cell_type": "markdown",
      "source": [
        "# Siamese Network for Forgery Detection\n",
        "\n",
        "### Define Source Path as necessary to retrieve the data"
      ],
      "metadata": {
        "id": "0N3xbf2zhzpQ"
      }
    },
    {
      "cell_type": "code",
      "execution_count": null,
      "metadata": {
        "id": "sdBmy7FiEMHP"
      },
      "outputs": [],
      "source": [
        "# Imports and Data\n",
        "import matplotlib.pyplot as plt # plotting\n",
        "import numpy as np # linear algebra\n",
        "import os # accessing directory structure\n",
        "import pandas as pd # data processing, CSV file I/O (e.g. pd.read_csv)\n",
        "import cv2\n",
        "import math\n",
        "import random\n",
        "# for converting data to tensors before feeding into network\n",
        "import torch\n",
        "from torch.utils.data import TensorDataset, DataLoader, Dataset\n",
        "from torchvision import transforms\n",
        "import torch.nn as nn\n",
        "import torch.nn.functional as F\n",
        "from torch.autograd import Variable\n",
        "\n",
        "from google.colab.patches import cv2_imshow\n",
        "from google.colab import drive\n",
        "\n",
        "from tqdm import tqdm"
      ]
    },
    {
      "cell_type": "code",
      "source": [
        "drive.mount('/content/drive')"
      ],
      "metadata": {
        "id": "lTUpVbhxTRhm",
        "colab": {
          "base_uri": "https://localhost:8080/"
        },
        "outputId": "69e0d68e-f350-4e8d-b54a-ff88c02322fd"
      },
      "execution_count": null,
      "outputs": [
        {
          "output_type": "stream",
          "name": "stdout",
          "text": [
            "Mounted at /content/drive\n"
          ]
        }
      ]
    },
    {
      "cell_type": "code",
      "source": [
        "# path in gdrive\n",
        "source_path = \"/content/drive/MyDrive/Handwriting Recognition\"\n",
        "raw_data_path = source_path + \"/signature_data_raw/\"\n",
        "forged_data = raw_data_path + \"forged/\"\n",
        "genuine_data = raw_data_path + \"genuine/\""
      ],
      "metadata": {
        "id": "tTSDFN-4hvdx"
      },
      "execution_count": null,
      "outputs": []
    },
    {
      "cell_type": "markdown",
      "source": [
        "# Functional for Processing our Raw data"
      ],
      "metadata": {
        "id": "AoS-mENGh9KN"
      }
    },
    {
      "cell_type": "code",
      "source": [
        "# Data Preprocessing\n",
        "def load_image(image_path):\n",
        "    src = cv2.imread(image_path)\n",
        "    #print(src)\n",
        "    return src\n",
        "\n",
        "def convert_grayscale(image):\n",
        "    return cv2.cvtColor(image, cv2.COLOR_BGR2GRAY)\n",
        "\n",
        "def rgb2gray(rgb):\n",
        "    return np.dot(rgb[...,:3], [0.2989, 0.5870, 0.1140])\n",
        "\n",
        "def display_image(image):\n",
        "    cv2_imshow(image)\n",
        "\n",
        "def flip_vertical(image):\n",
        "    '''\n",
        "    Mirrors the image over the x axis\n",
        "    '''\n",
        "    return cv2.flip(image, 0)\n",
        "\n",
        "def flip_horizontal(image):\n",
        "    '''\n",
        "    Mirrors the image over the y axis\n",
        "    '''\n",
        "    return cv2.flip(image, 1)\n",
        "\n",
        "def flip_both(image):\n",
        "    '''\n",
        "    Mirrors the images over both the x and the y axis\n",
        "    '''\n",
        "    return cv2.flip(image, -1)"
      ],
      "metadata": {
        "id": "5n2X-2T0FUyQ"
      },
      "execution_count": null,
      "outputs": []
    },
    {
      "cell_type": "markdown",
      "source": [
        "# Resizing All of The Images\n",
        "\n",
        "---\n",
        "\n"
      ],
      "metadata": {
        "id": "jwWRPJUkfXfv"
      }
    },
    {
      "cell_type": "code",
      "source": [
        "def resize_image(image, width, height):\n",
        "    '''\n",
        "    Resizes the image to the dimensions that we want (e.g. 250x70)\n",
        "    '''\n",
        "    resized_image = cv2.resize(image, (width, height))\n",
        "    return resized_image\n",
        "\n",
        "def resize_all(path, resized_path, new_width, new_height):\n",
        "    '''\n",
        "    Creates new folder of data with all of the resized images (original, mirrored)\n",
        "    '''\n",
        "    for file_name in os.listdir(path):\n",
        "        # original image\n",
        "        img_path = path + file_name\n",
        "        img = load_image(img_path)\n",
        "        img = convert_grayscale(img) # convert to gray\n",
        "        img = resize_image(img, new_width, new_height) # resize\n",
        "        file_name = file_name[9:12] + file_name[7:9]\n",
        "\n",
        "        new_image_path = resized_path + file_name + \".jpeg\"\n",
        "        cv2.imwrite(new_image_path, img) # save\n",
        "\n",
        "        # image mirrored vertically\n",
        "        vert_image = flip_vertical(img)\n",
        "        new_image_path = resized_path + file_name + \"vert.jpeg\"\n",
        "        cv2.imwrite(new_image_path, vert_image) # save\n",
        "\n",
        "        # image flipped horizontal\n",
        "        h_image = flip_horizontal(img)\n",
        "        new_image_path = resized_path + file_name + \"horiz.jpeg\"\n",
        "        cv2.imwrite(new_image_path, h_image) # save\n",
        "\n",
        "        # image flipped both axes\n",
        "        b_image = flip_both(img)\n",
        "        new_image_path = resized_path + file_name + \"both.jpeg\"\n",
        "        cv2.imwrite(new_image_path, b_image) # save"
      ],
      "metadata": {
        "id": "Qsl1xLT9aHJT"
      },
      "execution_count": null,
      "outputs": []
    },
    {
      "cell_type": "markdown",
      "source": [
        "# Genuine Data Resized w/ Mirroring\n",
        "\n",
        "\n",
        "Needed from above:\n",
        "```\n",
        "genuine_data\n",
        "```\n",
        "\n"
      ],
      "metadata": {
        "id": "J2pLqGA9hE1B"
      }
    },
    {
      "cell_type": "code",
      "source": [
        "# resized_path = \"/content/drive/MyDrive/Handwriting Recognition/resized_signature_data/genuine_resized/\"\n",
        "# new_width, new_height = 200, 75\n",
        "# if not os.path.exists(resized_path):\n",
        "#     os.mkdir(resized_path)\n",
        "# resize_all(genuine_data, resized_path, new_width, new_height)"
      ],
      "metadata": {
        "id": "AdDVDAwTfyHx"
      },
      "execution_count": null,
      "outputs": []
    },
    {
      "cell_type": "markdown",
      "source": [
        "# Forged Data Resized w/ Mirroring\n",
        "\n",
        "Needed from above\n",
        "```\n",
        "forged_data\n",
        "```"
      ],
      "metadata": {
        "id": "A2X0vBQdhRoX"
      }
    },
    {
      "cell_type": "code",
      "source": [
        "# resized_path = \"/content/drive/MyDrive/Handwriting Recognition/resized_signature_data/forged_resized/\"\n",
        "# new_width, new_height = 200, 75\n",
        "# if not os.path.exists(resized_path):\n",
        "#     os.mkdir(resized_path)\n",
        "# resize_all(forged_data, resized_path, new_width, new_height)"
      ],
      "metadata": {
        "id": "Ga_F7JOjgEjq"
      },
      "execution_count": null,
      "outputs": []
    },
    {
      "cell_type": "markdown",
      "source": [
        "# Conversion to Tensors to Get Data Ready for Training"
      ],
      "metadata": {
        "id": "wGOaZItLqJzI"
      }
    },
    {
      "cell_type": "code",
      "source": [
        "transform = transforms.Compose([\n",
        "    transforms.ToTensor(),\n",
        "    transforms.Normalize([0.5], [0.5])  # normalization of pixel values\n",
        "])\n",
        "\n",
        "f_path = \"/content/drive/MyDrive/Handwriting Recognition/resized_signature_data/forged_resized/\"\n",
        "g_path = \"/content/drive/MyDrive/Handwriting Recognition/resized_signature_data/genuine_resized/\"\n",
        "\n",
        "g_images = []\n",
        "f_images = []\n",
        "g_labels = []\n",
        "f_labels = []\n",
        "\n",
        "genuine_files = 0 # adding the genuine files to the set of images\n",
        "for file_name in sorted(os.listdir(g_path)):\n",
        "    img_path = g_path + file_name\n",
        "    img = load_image(img_path)\n",
        "    img = transform(img) # transfrom image to Tensor\n",
        "    g_images.append((img, file_name))\n",
        "    label = 1\n",
        "    g_labels.append(label)\n",
        "    genuine_files += 1\n",
        "\n",
        "forged_files = 0\n",
        "for file_name in sorted(os.listdir(f_path)): # adding the forged files to the set of iamges\n",
        "    img_path = f_path + file_name\n",
        "    img = load_image(img_path)\n",
        "    img = transform(img) # transform image to tensor\n",
        "    f_images.append((img, file_name))\n",
        "    label = 0\n",
        "    f_labels.append(label)\n",
        "    forged_files += 1"
      ],
      "metadata": {
        "id": "FEAM7bfPnirX"
      },
      "execution_count": null,
      "outputs": []
    },
    {
      "cell_type": "markdown",
      "source": [
        "# Custom Dataset Class"
      ],
      "metadata": {
        "id": "KdAOU8XUrGQU"
      }
    },
    {
      "cell_type": "code",
      "source": [
        "class SiameseDataset(Dataset):\n",
        "    def __init__(self, genuine_tups, forged_tups):\n",
        "        '''a tuple is an (image, title) pair'''\n",
        "        super().__init__()\n",
        "        print(f\"number of genuine samples: {len(genuine_tups)}, number of forged samples {len(forged_tups)}\")\n",
        "        self.dataset = self.create_dataset(genuine_tups, forged_tups)\n",
        "        print(f\"Total dataset length: {self.__len__()}\")\n",
        "\n",
        "    def create_dataset(self, genuine, forged):\n",
        "        ''' we want half the images to match'''\n",
        "        dataset = []\n",
        "\n",
        "        # we add genuine pairs first\n",
        "        for img, title in genuine:\n",
        "            found = False\n",
        "            id, version, rotation = title[:3], title[3:5], title[5:9] # get whose signature it is\n",
        "            # first see if we can get a different sample from the same person\n",
        "            for i,t in genuine:\n",
        "                if t[:3]==id and t[3:5]!=version and t[5:9]==rotation:\n",
        "                    dataset.append((img, i, 1))\n",
        "                    found = True\n",
        "                    break\n",
        "            if found: continue\n",
        "            # if we were not able to get a different sample, just get a rotation\n",
        "            for i,t in genuine:\n",
        "                if t[:3]==id and t[5:9]==rotation and title!=t:\n",
        "                    dataset.append((img, i, 1))\n",
        "                    found = True\n",
        "                    break\n",
        "            print(f\"No matching genuine picture found for person {id} ({title})\")\n",
        "\n",
        "        # now we add forged pairs first - I am going to keep all real images on the left\n",
        "        for img, title in forged:\n",
        "            id, version, rotation = title[:3], title[3:5], title[5:9] # get whose signature it is\n",
        "            for i,t in genuine: # find a matching enuine sample\n",
        "                if t[:3]==id and t[5:9]==rotation:\n",
        "                    dataset.append((i, img, 0))\n",
        "                    break\n",
        "        random.shuffle(dataset)\n",
        "        return dataset\n",
        "\n",
        "    def __getitem__(self, index):\n",
        "        return self.dataset[index]\n",
        "\n",
        "    def __len__(self):\n",
        "        return len(self.dataset)"
      ],
      "metadata": {
        "id": "ca5yeT0XMN-b"
      },
      "execution_count": null,
      "outputs": []
    },
    {
      "cell_type": "markdown",
      "source": [
        "# Split into Train/Validate/Test"
      ],
      "metadata": {
        "id": "W9dEt8HOqPd3"
      }
    },
    {
      "cell_type": "code",
      "source": [
        "# batch_size = 64\n",
        "number_gsamples = len(g_images)\n",
        "number_fsamples = len(f_images)\n",
        "training_split = 0.6\n",
        "validation_split = 0.2\n",
        "\n",
        "training_data = SiameseDataset(g_images[1:int(number_gsamples*training_split)], f_images[:int(number_fsamples*training_split)-1])\n",
        "validation_data = SiameseDataset(g_images[int(number_gsamples*training_split):int(number_gsamples*training_split+number_gsamples*validation_split)], f_images[int(number_fsamples*training_split)-1:int(number_fsamples*training_split+number_fsamples*validation_split)])\n",
        "test_data = SiameseDataset(g_images[int(number_gsamples*training_split+number_gsamples*validation_split):], f_images[int(number_fsamples*training_split+number_fsamples*validation_split):])\n",
        "\n",
        "training_data_size = training_data.__len__()\n",
        "\n",
        "train_dataloader = DataLoader(training_data, batch_size=65, shuffle=True)\n",
        "validation_dataloader = DataLoader(validation_data, batch_size=60, shuffle=True)\n",
        "test_dataloader = DataLoader(test_data, batch_size=60, shuffle=True)"
      ],
      "metadata": {
        "id": "LSSX5JUdpqAr",
        "colab": {
          "base_uri": "https://localhost:8080/"
        },
        "outputId": "d1f3f675-4de6-414b-94d5-c9c04c17ade0"
      },
      "execution_count": null,
      "outputs": [
        {
          "output_type": "stream",
          "name": "stdout",
          "text": [
            "number of genuine samples: 359, number of forged samples 356\n",
            "Total dataset length: 715\n",
            "number of genuine samples: 120, number of forged samples 120\n",
            "Total dataset length: 240\n",
            "number of genuine samples: 120, number of forged samples 120\n",
            "Total dataset length: 240\n"
          ]
        }
      ]
    },
    {
      "cell_type": "code",
      "source": [
        "def display_tensors(data_tensor0, data_tensor1):\n",
        "    '''Display tensor data of an image as an image'''\n",
        "    numpy_img0 = data_tensor0\n",
        "    numpy_img1 = data_tensor1\n",
        "    if numpy_img0.shape[0] == 3:\n",
        "        numpy_img0 = np.transpose(numpy_img0, (1, 2, 0))\n",
        "    if numpy_img1.shape[0] == 3:\n",
        "        numpy_img1 = np.transpose(numpy_img1, (1, 2, 0))\n",
        "    plt.figure(figsize=(10, 10))\n",
        "    plt.subplot(1, 2, 1)\n",
        "    plt.imshow(numpy_img0)\n",
        "    plt.title('Image 0')\n",
        "    plt.subplot(1, 2, 2)\n",
        "    plt.imshow(numpy_img1)\n",
        "    plt.title('Image 1')\n",
        "    plt.show()\n"
      ],
      "metadata": {
        "id": "o9XQCK-6Z2p5"
      },
      "execution_count": null,
      "outputs": []
    },
    {
      "cell_type": "markdown",
      "source": [
        "# Set up Network"
      ],
      "metadata": {
        "id": "i8aeMjUw1Fu3"
      }
    },
    {
      "cell_type": "code",
      "source": [
        "class SiameseNetwork(nn.Module):\n",
        "    '''\n",
        "    Siamese Network module\n",
        "    '''\n",
        "    # self.contrastive_loss = 0.5*(1-Y)*(Dw**2) + 0.5*Y*(max(0,m-Dw))**2\n",
        "    # self.Dw = lambda x1,x2: math.sqrt(math.pow(Gw(x1)-Gw(x2),2))\n",
        "\n",
        "    threshold = 30\n",
        "    threshold_lr = 0.01\n",
        "\n",
        "    def __init__(self):\n",
        "        super(SiameseNetwork, self).__init__()\n",
        "        # Assuming input images are of size [3, 75, 200]\n",
        "        self.cnn1 = nn.Sequential(\n",
        "            nn.Conv2d(3, 32, kernel_size=7, stride=2),\n",
        "            nn.ReLU(inplace=True),\n",
        "            nn.BatchNorm2d(32),\n",
        "\n",
        "            nn.Conv2d(32, 64, kernel_size=4, stride=2),\n",
        "            nn.ReLU(inplace=True),\n",
        "            nn.BatchNorm2d(64),\n",
        "\n",
        "            nn.Conv2d(64, 128, kernel_size=4, stride=2),\n",
        "            nn.ReLU(inplace=True),\n",
        "            nn.BatchNorm2d(128),\n",
        "            nn.MaxPool2d(4)\n",
        "        )\n",
        "\n",
        "\n",
        "        self.fc1 = nn.Sequential(\n",
        "            nn.Linear(640, 4096),\n",
        "            nn.ReLU(),\n",
        "            nn.Dropout(0.2),  # lowered dropout\n",
        "            nn.Linear(4096, 1)\n",
        "        )\n",
        "\n",
        "\n",
        "    def forward_once(self, x):\n",
        "        output = self.cnn1(x)\n",
        "        #output = self.adaptive_pool\n",
        "        output = output.view(output.size(0), -1)\n",
        "        output = self.fc1(output)\n",
        "        return output\n",
        "\n",
        "    def forward(self, input1, input2):\n",
        "        output1 = self.forward_once(input1)\n",
        "        output2 = self.forward_once(input2)\n",
        "        return output1, output2\n",
        "\n",
        "    def evaluate(self, dataloader):\n",
        "        # Switch the network to evaluation mode\n",
        "        self.eval()\n",
        "        eval_loss = ContrastiveLoss()\n",
        "\n",
        "        correct_pairs = 0\n",
        "        total_pairs = 0\n",
        "\n",
        "        match_pairs = 0\n",
        "        forged_pairs = 0\n",
        "        match_distances = []\n",
        "        forged_distances = []\n",
        "        curr_epoch_loss = 0\n",
        "        # Iterate over the data loader\n",
        "        for batch in dataloader:\n",
        "            img_list_0, img_list_1, labels = batch # so store each item of the batch\n",
        "            for i in range(dataloader.batch_size): # for each pair in batch\n",
        "                img0 = img_list_0[i]\n",
        "                img1 = img_list_1[i]\n",
        "                label = labels[i]\n",
        "                img0, img1, label = img0.cuda(), img1.cuda(), label.cuda()\n",
        "\n",
        "                # do a prediction\n",
        "                output1, output2 = self.forward(img0.unsqueeze(0),img1.unsqueeze(0))\n",
        "                # Calculate the Euclidean distance between the outputs\n",
        "                distance = F.pairwise_distance(output1, output2)\n",
        "\n",
        "                # Check if the distance is less than a threshold for similar pairs\n",
        "                # print(\"{:.5e} {}\".format(torch.mean(distance).item(), label.item()))\n",
        "                prediction = torch.mean(distance).item() > self.threshold\n",
        "                label = label.item()\n",
        "                loss_contrastive = eval_loss(output1,output2, labels[i].cuda(), euclidean_distance=distance)\n",
        "\n",
        "                curr_epoch_loss += loss_contrastive.detach().cpu().numpy()\n",
        "                if label == int(prediction):\n",
        "                    correct_pairs+=1\n",
        "                total_pairs += 1\n",
        "\n",
        "                if label:\n",
        "                    match_pairs += 1\n",
        "                    match_distances.append(torch.mean(distance).item())\n",
        "                else:\n",
        "                    forged_pairs += 1\n",
        "                    forged_distances.append(torch.mean(distance).item())\n",
        "\n",
        "        accuracy = 1.0*correct_pairs / total_pairs\n",
        "        # print(f\"Accuracy is: {accuracy}\")\n",
        "        return accuracy, curr_epoch_loss\n",
        "\n",
        "    def evaluate_one(self, img0, img1, label):\n",
        "        self.eval()\n",
        "        # do a prediction\n",
        "        output1, output2 = self.forward(img0.unsqueeze(0),img1.unsqueeze(0))\n",
        "        # Calculate the Euclidean distance between the outputs\n",
        "        distance = F.pairwise_distance(output1, output2)\n",
        "\n",
        "        # Check if the distance is less than a threshold for similar pairs\n",
        "        prediction = torch.mean(distance).item() < self.threshold\n",
        "\n",
        "        if label == int(prediction):\n",
        "            return 1\n",
        "        return 0\n",
        "\n",
        "class ContrastiveLoss(torch.nn.Module):\n",
        "    \"\"\"\n",
        "    Contrastive loss function.\n",
        "    Based on: http://yann.lecun.com/exdb/publis/pdf/hadsell-chopra-lecun-06.pdf\n",
        "    https://medium.com/hackernoon/facial-similarity-with-siamese-networks-in-pytorch-9642aa9db2f7\n",
        "    \"\"\"\n",
        "\n",
        "    def __init__(self, margin=40.0):\n",
        "        super(ContrastiveLoss, self).__init__()\n",
        "        self.margin = margin\n",
        "\n",
        "    def forward(self, output1, output2, label, euclidean_distance=None):\n",
        "        if not euclidean_distance:\n",
        "          euclidean_distance = F.pairwise_distance(output1, output2)\n",
        "        # print(f\"match? {label}; distance: {euclidean_distance.item()}\")\n",
        "        loss_contrastive = torch.mean((1-label) * torch.pow(euclidean_distance, 2) +\n",
        "                                      (label) * torch.pow(torch.clamp(self.margin - euclidean_distance, min=0.0), 2))\n",
        "\n",
        "        return loss_contrastive"
      ],
      "metadata": {
        "id": "iIEOEwEQ2aR7"
      },
      "execution_count": null,
      "outputs": []
    },
    {
      "cell_type": "markdown",
      "source": [
        "#Training"
      ],
      "metadata": {
        "id": "qgPTRdNUyCC-"
      }
    },
    {
      "cell_type": "code",
      "source": [
        "# plotting function\n",
        "def show_plot(iteration,loss, title):\n",
        "    plt.plot(iteration,loss)\n",
        "    plt.title(title)\n",
        "    plt.show()\n",
        "\n",
        "device = torch.device('cuda:0' if torch.cuda.is_available() else 'cpu')\n",
        "\n",
        "# ----------------------CHANGE----------------------------#\n",
        "my_starting_weights = \"/content/drive/MyDrive/Handwriting Recognition/500_EPOCH_MODEL.pth.pth\"\n",
        "# --------------------------------------------------------#\n",
        "epochs = 20\n",
        "save = False\n",
        "load = False\n",
        "\n",
        "#Training\n",
        "network = SiameseNetwork().cuda()\n",
        "if load:\n",
        "  print(f\"Loading the weights from {my_starting_weights} ...\")\n",
        "  network.load_state_dict(torch.load(my_starting_weights))\n",
        "  print(\"Successfully loaded the model checkpoint!\")\n",
        "\n",
        "loss = ContrastiveLoss()\n",
        "optimizer = torch.optim.Adam(network.parameters(),lr = 0.01)\n",
        "\n",
        "counter = []\n",
        "acc_history = []\n",
        "loss_history = []\n",
        "val_loss = []\n",
        "\n",
        "network.train()\n",
        "for epoch in tqdm(range(epochs)):\n",
        "    cur_epoch_loss = 0\n",
        "    for batch in train_dataloader:\n",
        "\n",
        "        optimizer.zero_grad() # Clears the gradients of all optimized tensors\n",
        "        img_list_0, img_list_1, labels = batch # store each item of the batch\n",
        "\n",
        "        for i in range(train_dataloader.batch_size):\n",
        "            output1, output2 = network(img_list_0[i].cuda().unsqueeze(0), img_list_1[i].cuda().unsqueeze(0)) # Forward pass\n",
        "            euclidean_distance = F.pairwise_distance(output1, output2)\n",
        "            loss_contrastive = loss(output1,output2, labels[i].cuda(), euclidean_distance) # Compute the loss\n",
        "            loss_contrastive.backward() # Backward pass to compute gradients\n",
        "            cur_epoch_loss += loss_contrastive.detach().cpu().numpy()\n",
        "\n",
        "\n",
        "        optimizer.step() # Update weights\n",
        "    # evaluate at each epoch\n",
        "    print(\"Epoch number {}: Cumulative Loss {:.5e}\".format(epoch+1,cur_epoch_loss))\n",
        "    acc, validation_l = network.evaluate(validation_dataloader)\n",
        "    val_loss.append(validation_l)\n",
        "    #print(f'Train Accuracy Achieved: {acc}\\n')\n",
        "    acc_history.append(acc)\n",
        "    loss_history.append(cur_epoch_loss)\n",
        "    counter.append(epoch+1)\n",
        "\n",
        "#show_plot(counter,acc_history, \"Accuracy as Trianing Progresses\")\n",
        "#show_plot(counter, val_loss, \"Validation Loss\")\n",
        "show_plot(counter,loss_history, \"Loss as Trianing Progresses\")\n",
        "\n",
        "\n",
        "\n",
        "# ----------------------CHANGE----------------------------#\n",
        "if save:\n",
        "  my_best_model = \"/content/drive/MyDrive/Handwriting Recognition/500_EPOCH_MODEL.pth\"\n",
        "  torch.save(network.state_dict(), my_best_model)\n",
        "  print(f\"model saved to {my_best_model}\")\n",
        "# --------------------------------------------------------#\n",
        "\n",
        "acc = network.evaluate(validation_dataloader)\n",
        "print(f'Validation Accuracy Achieved: {acc}\\n')"
      ],
      "metadata": {
        "id": "Ti5YE8TlyA5Z",
        "colab": {
          "base_uri": "https://localhost:8080/",
          "height": 851
        },
        "outputId": "8561dd35-424e-4331-d3e0-03e14572b6da"
      },
      "execution_count": null,
      "outputs": [
        {
          "output_type": "stream",
          "name": "stderr",
          "text": [
            "\r  0%|          | 0/20 [00:00<?, ?it/s]"
          ]
        },
        {
          "output_type": "stream",
          "name": "stdout",
          "text": [
            "Epoch number 1: Cumulative Loss 5.12359e+05\n"
          ]
        },
        {
          "output_type": "stream",
          "name": "stderr",
          "text": [
            "\r  5%|▌         | 1/20 [00:04<01:18,  4.13s/it]"
          ]
        },
        {
          "output_type": "stream",
          "name": "stdout",
          "text": [
            "Epoch number 2: Cumulative Loss 5.51663e+05\n"
          ]
        },
        {
          "output_type": "stream",
          "name": "stderr",
          "text": [
            "\r 10%|█         | 2/20 [00:07<01:08,  3.79s/it]"
          ]
        },
        {
          "output_type": "stream",
          "name": "stdout",
          "text": [
            "Epoch number 3: Cumulative Loss 4.18974e+05\n"
          ]
        },
        {
          "output_type": "stream",
          "name": "stderr",
          "text": [
            "\r 15%|█▌        | 3/20 [00:11<01:08,  4.00s/it]"
          ]
        },
        {
          "output_type": "stream",
          "name": "stdout",
          "text": [
            "Epoch number 4: Cumulative Loss 3.73572e+05\n"
          ]
        },
        {
          "output_type": "stream",
          "name": "stderr",
          "text": [
            "\r 20%|██        | 4/20 [00:15<01:01,  3.82s/it]"
          ]
        },
        {
          "output_type": "stream",
          "name": "stdout",
          "text": [
            "Epoch number 5: Cumulative Loss 3.31123e+05\n"
          ]
        },
        {
          "output_type": "stream",
          "name": "stderr",
          "text": [
            "\r 25%|██▌       | 5/20 [00:19<00:55,  3.72s/it]"
          ]
        },
        {
          "output_type": "stream",
          "name": "stdout",
          "text": [
            "Epoch number 6: Cumulative Loss 3.12808e+05\n"
          ]
        },
        {
          "output_type": "stream",
          "name": "stderr",
          "text": [
            "\r 30%|███       | 6/20 [00:22<00:52,  3.73s/it]"
          ]
        },
        {
          "output_type": "stream",
          "name": "stdout",
          "text": [
            "Epoch number 7: Cumulative Loss 3.00092e+05\n"
          ]
        },
        {
          "output_type": "stream",
          "name": "stderr",
          "text": [
            "\r 35%|███▌      | 7/20 [00:27<00:52,  4.07s/it]"
          ]
        },
        {
          "output_type": "stream",
          "name": "stdout",
          "text": [
            "Epoch number 8: Cumulative Loss 2.62248e+05\n"
          ]
        },
        {
          "output_type": "stream",
          "name": "stderr",
          "text": [
            "\r 40%|████      | 8/20 [00:32<00:50,  4.23s/it]"
          ]
        },
        {
          "output_type": "stream",
          "name": "stdout",
          "text": [
            "Epoch number 9: Cumulative Loss 2.26705e+05\n"
          ]
        },
        {
          "output_type": "stream",
          "name": "stderr",
          "text": [
            "\r 45%|████▌     | 9/20 [00:35<00:44,  4.00s/it]"
          ]
        },
        {
          "output_type": "stream",
          "name": "stdout",
          "text": [
            "Epoch number 10: Cumulative Loss 1.83343e+05\n"
          ]
        },
        {
          "output_type": "stream",
          "name": "stderr",
          "text": [
            "\r 50%|█████     | 10/20 [00:39<00:40,  4.07s/it]"
          ]
        },
        {
          "output_type": "stream",
          "name": "stdout",
          "text": [
            "Epoch number 11: Cumulative Loss 1.82368e+05\n"
          ]
        },
        {
          "output_type": "stream",
          "name": "stderr",
          "text": [
            "\r 55%|█████▌    | 11/20 [00:43<00:35,  3.90s/it]"
          ]
        },
        {
          "output_type": "stream",
          "name": "stdout",
          "text": [
            "Epoch number 12: Cumulative Loss 1.76915e+05\n"
          ]
        },
        {
          "output_type": "stream",
          "name": "stderr",
          "text": [
            "\r 60%|██████    | 12/20 [00:46<00:30,  3.80s/it]"
          ]
        },
        {
          "output_type": "stream",
          "name": "stdout",
          "text": [
            "Epoch number 13: Cumulative Loss 1.61490e+05\n"
          ]
        },
        {
          "output_type": "stream",
          "name": "stderr",
          "text": [
            "\r 65%|██████▌   | 13/20 [00:50<00:26,  3.84s/it]"
          ]
        },
        {
          "output_type": "stream",
          "name": "stdout",
          "text": [
            "Epoch number 14: Cumulative Loss 1.48888e+05\n"
          ]
        },
        {
          "output_type": "stream",
          "name": "stderr",
          "text": [
            "\r 70%|███████   | 14/20 [00:54<00:22,  3.83s/it]"
          ]
        },
        {
          "output_type": "stream",
          "name": "stdout",
          "text": [
            "Epoch number 15: Cumulative Loss 1.36228e+05\n"
          ]
        },
        {
          "output_type": "stream",
          "name": "stderr",
          "text": [
            "\r 75%|███████▌  | 15/20 [00:58<00:18,  3.72s/it]"
          ]
        },
        {
          "output_type": "stream",
          "name": "stdout",
          "text": [
            "Epoch number 16: Cumulative Loss 1.56861e+05\n"
          ]
        },
        {
          "output_type": "stream",
          "name": "stderr",
          "text": [
            "\r 80%|████████  | 16/20 [01:01<00:14,  3.66s/it]"
          ]
        },
        {
          "output_type": "stream",
          "name": "stdout",
          "text": [
            "Epoch number 17: Cumulative Loss 1.38220e+05\n"
          ]
        },
        {
          "output_type": "stream",
          "name": "stderr",
          "text": [
            "\r 85%|████████▌ | 17/20 [01:05<00:11,  3.82s/it]"
          ]
        },
        {
          "output_type": "stream",
          "name": "stdout",
          "text": [
            "Epoch number 18: Cumulative Loss 1.11520e+05\n"
          ]
        },
        {
          "output_type": "stream",
          "name": "stderr",
          "text": [
            "\r 90%|█████████ | 18/20 [01:09<00:07,  3.73s/it]"
          ]
        },
        {
          "output_type": "stream",
          "name": "stdout",
          "text": [
            "Epoch number 19: Cumulative Loss 9.83933e+04\n"
          ]
        },
        {
          "output_type": "stream",
          "name": "stderr",
          "text": [
            "\r 95%|█████████▌| 19/20 [01:12<00:03,  3.67s/it]"
          ]
        },
        {
          "output_type": "stream",
          "name": "stdout",
          "text": [
            "Epoch number 20: Cumulative Loss 9.63558e+04\n"
          ]
        },
        {
          "output_type": "stream",
          "name": "stderr",
          "text": [
            "100%|██████████| 20/20 [01:16<00:00,  3.84s/it]\n"
          ]
        },
        {
          "output_type": "display_data",
          "data": {
            "text/plain": [
              "<Figure size 640x480 with 1 Axes>"
            ],
            "image/png": "[encoded data removed]"
          },
          "metadata": {}
        },
        {
          "output_type": "stream",
          "name": "stdout",
          "text": [
            "Validation Accuracy Achieved: (0.5, 156315.9600751996)\n",
            "\n"
          ]
        }
      ]
    },
    {
      "cell_type": "code",
      "source": [
        "data_loader = train_dataloader\n",
        "data_loader = test_dataloader\n",
        "data_iter = iter(data_loader)\n",
        "maximum = -1\n",
        "minimum = 10000\n",
        "count = 0\n",
        "total = 0\n",
        "vals = []\n",
        "forged_distances = []\n",
        "true_distances = []\n",
        "\n",
        "while data_iter:\n",
        "  try:\n",
        "    img0, img1, train_label = next(data_iter)\n",
        "    for i in range(data_loader.batch_size):\n",
        "      output1, output2 = network(img0[i].cuda().unsqueeze(0),img1[i].cuda().unsqueeze(0))\n",
        "      euclidean_distance = F.pairwise_distance(output1, output2)\n",
        "      count+=1\n",
        "      maximum = max(maximum, euclidean_distance.item())\n",
        "      minimum = min(minimum, euclidean_distance.item())\n",
        "      total += euclidean_distance.item()\n",
        "      vals.append(euclidean_distance.item())\n",
        "      if train_label[i].item():\n",
        "        true_distances.append(euclidean_distance.item())\n",
        "      else:\n",
        "        forged_distances.append(euclidean_distance.item())\n",
        "  except StopIteration:\n",
        "    break\n",
        "\n",
        "plt.hist(forged_distances, bins=40, label='Forgeries', alpha=.7, edgecolor='blue')\n",
        "plt.hist(true_distances, bins=40, label='Matches', alpha=.7, edgecolor='red')\n",
        "plt.title(\"Euclidean Distance Distribution\")\n",
        "plt.legend()\n",
        "plt.show()"
      ],
      "metadata": {
        "colab": {
          "base_uri": "https://localhost:8080/",
          "height": 452
        },
        "id": "79RgTPuaShSY",
        "outputId": "6e7cad58-3c3f-4ecf-eb6e-aed5ee07028a"
      },
      "execution_count": null,
      "outputs": [
        {
          "output_type": "display_data",
          "data": {
            "text/plain": [
              "<Figure size 640x480 with 1 Axes>"
            ],
            "image/png": "[encoded data removed]"
          },
          "metadata": {}
        }
      ]
    },
    {
      "cell_type": "markdown",
      "source": [
        "# Testing"
      ],
      "metadata": {
        "id": "-7bBn12FuT_S"
      }
    },
    {
      "cell_type": "code",
      "source": [
        "#device = torch.device('cuda:0' if torch.cuda.is_available() else 'cpu')\n",
        "#my_starting_weights = \"/content/drive/MyDrive/Handwriting Recognition/best_model.pth\"\n",
        "#network = SiameseNetwork().cuda()\n",
        "#if not network: # load weights\n",
        "#  print(f\"Loading the weights from {my_starting_weights} ...\")\n",
        "#  network.load_state_dict(torch.load(my_starting_weights))\n",
        "#  print(\"Successfully loaded the model checkpoint!\")\n",
        "# evaluate on testing data\n",
        "acc, loss = network.evaluate(test_dataloader)\n",
        "print(f\"Test Accuracy on {epochs} Epoch Model: {acc*100:.2f}%\")"
      ],
      "metadata": {
        "id": "_uQq23oGUlL5",
        "colab": {
          "base_uri": "https://localhost:8080/"
        },
        "outputId": "b6a8db3b-be61-47de-d57f-0239103fc73a"
      },
      "execution_count": null,
      "outputs": [
        {
          "output_type": "stream",
          "name": "stdout",
          "text": [
            "Test Accuracy on 20 Epoch Model: 71.67%\n"
          ]
        }
      ]
    },
    {
      "cell_type": "code",
      "source": [
        "acc, loss = network.evaluate(train_dataloader)\n",
        "print(f\"Train Accuracy on {epochs} Epoch Model: {acc*100:.2f}%\")"
      ],
      "metadata": {
        "id": "G1ox_JoJPqVq",
        "colab": {
          "base_uri": "https://localhost:8080/"
        },
        "outputId": "73e775d1-25f1-4525-b210-33b092cb8cd5"
      },
      "execution_count": null,
      "outputs": [
        {
          "output_type": "stream",
          "name": "stdout",
          "text": [
            "Train Accuracy on 20 Epoch Model: 87.41%\n"
          ]
        }
      ]
    }
  ]
}